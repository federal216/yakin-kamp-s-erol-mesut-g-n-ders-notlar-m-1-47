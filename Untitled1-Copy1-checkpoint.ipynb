{
 "cells": [
  {
   "cell_type": "code",
   "execution_count": 1,
   "metadata": {},
   "outputs": [
    {
     "name": "stdout",
     "output_type": "stream",
     "text": [
      "10\n"
     ]
    }
   ],
   "source": [
    "sayi=10\n",
    "print(sayi)"
   ]
  },
  {
   "cell_type": "code",
   "execution_count": 2,
   "metadata": {},
   "outputs": [
    {
     "name": "stdout",
     "output_type": "stream",
     "text": [
      "11\n"
     ]
    }
   ],
   "source": [
    "sayi=sayi+1\n",
    "print(sayi)"
   ]
  },
  {
   "cell_type": "code",
   "execution_count": 3,
   "metadata": {},
   "outputs": [
    {
     "name": "stdout",
     "output_type": "stream",
     "text": [
      "10\n"
     ]
    }
   ],
   "source": [
    "sayi_ilk=10\n",
    "print(sayi_ilk)"
   ]
  },
  {
   "cell_type": "code",
   "execution_count": 7,
   "metadata": {},
   "outputs": [
    {
     "ename": "NameError",
     "evalue": "name 'ilk' is not defined",
     "output_type": "error",
     "traceback": [
      "\u001b[1;31m---------------------------------------------------------------------------\u001b[0m",
      "\u001b[1;31mNameError\u001b[0m                                 Traceback (most recent call last)",
      "\u001b[1;32m<ipython-input-7-43e460d2545d>\u001b[0m in \u001b[0;36m<module>\u001b[1;34m\u001b[0m\n\u001b[0;32m      1\u001b[0m \u001b[0msayi_ilk\u001b[0m\u001b[1;33m=\u001b[0m\u001b[1;36m19\u001b[0m\u001b[1;33m\u001b[0m\u001b[1;33m\u001b[0m\u001b[0m\n\u001b[0;32m      2\u001b[0m \u001b[0m_\u001b[0m\u001b[1;33m=\u001b[0m\u001b[1;36m20\u001b[0m\u001b[1;33m\u001b[0m\u001b[1;33m\u001b[0m\u001b[0m\n\u001b[1;32m----> 3\u001b[1;33m \u001b[0mprint\u001b[0m\u001b[1;33m(\u001b[0m\u001b[0msayi\u001b[0m\u001b[1;33m-\u001b[0m\u001b[0milk\u001b[0m\u001b[1;33m)\u001b[0m\u001b[1;33m\u001b[0m\u001b[1;33m\u001b[0m\u001b[0m\n\u001b[0m\u001b[0;32m      4\u001b[0m \u001b[1;33m\u001b[0m\u001b[0m\n",
      "\u001b[1;31mNameError\u001b[0m: name 'ilk' is not defined"
     ]
    }
   ],
   "source": [
    "sayi_ilk=19\n",
    "_=20\n",
    "print(sayi-ilk)\n",
    "\n"
   ]
  },
  {
   "cell_type": "code",
   "execution_count": 8,
   "metadata": {},
   "outputs": [
    {
     "name": "stdout",
     "output_type": "stream",
     "text": [
      "10\n"
     ]
    }
   ],
   "source": [
    "sayi_ilk=10\n",
    "_=20\n",
    "print(sayi_ilk)"
   ]
  },
  {
   "cell_type": "markdown",
   "metadata": {},
   "source": [
    "#yakin kampüs"
   ]
  },
  {
   "cell_type": "code",
   "execution_count": 10,
   "metadata": {},
   "outputs": [],
   "source": [
    "# yakin kampüs"
   ]
  },
  {
   "cell_type": "code",
   "execution_count": 11,
   "metadata": {},
   "outputs": [
    {
     "data": {
      "text/plain": [
       "7"
      ]
     },
     "execution_count": 11,
     "metadata": {},
     "output_type": "execute_result"
    }
   ],
   "source": [
    "3+4"
   ]
  },
  {
   "cell_type": "code",
   "execution_count": 13,
   "metadata": {
    "scrolled": true
   },
   "outputs": [
    {
     "data": {
      "text/plain": [
       "float"
      ]
     },
     "execution_count": 13,
     "metadata": {},
     "output_type": "execute_result"
    }
   ],
   "source": [
    "type(2.5)"
   ]
  },
  {
   "cell_type": "code",
   "execution_count": null,
   "metadata": {},
   "outputs": [],
   "source": [
    "strvar = \"python\"\n",
    "print(strvar)"
   ]
  },
  {
   "cell_type": "code",
   "execution_count": null,
   "metadata": {},
   "outputs": [],
   "source": [
    "strvar[2:]"
   ]
  },
  {
   "cell_type": "code",
   "execution_count": null,
   "metadata": {},
   "outputs": [],
   "source": [
    "strvar[:3]"
   ]
  },
  {
   "cell_type": "code",
   "execution_count": null,
   "metadata": {},
   "outputs": [],
   "source": [
    "strvar[2:5]"
   ]
  },
  {
   "cell_type": "code",
   "execution_count": null,
   "metadata": {},
   "outputs": [],
   "source": [
    "strvar[::2]"
   ]
  },
  {
   "cell_type": "code",
   "execution_count": null,
   "metadata": {},
   "outputs": [],
   "source": [
    "strvar[1:5:3]"
   ]
  },
  {
   "cell_type": "code",
   "execution_count": null,
   "metadata": {},
   "outputs": [],
   "source": [
    "len(strvar)"
   ]
  },
  {
   "cell_type": "code",
   "execution_count": null,
   "metadata": {},
   "outputs": [],
   "source": [
    "strvar = \"phyton\"\n",
    "print(strvar)"
   ]
  },
  {
   "cell_type": "code",
   "execution_count": null,
   "metadata": {},
   "outputs": [],
   "source": [
    "strvar\\t   +    'ögren!'"
   ]
  },
  {
   "cell_type": "code",
   "execution_count": null,
   "metadata": {},
   "outputs": [],
   "source": [
    "strvar + \"ögren\" "
   ]
  },
  {
   "cell_type": "code",
   "execution_count": null,
   "metadata": {},
   "outputs": [],
   "source": [
    "strvar = \"python\"\n",
    "print(strvar)"
   ]
  },
  {
   "cell_type": "code",
   "execution_count": null,
   "metadata": {},
   "outputs": [],
   "source": [
    "strvar = strvar +  \" ögren \"\n",
    "strvar"
   ]
  },
  {
   "cell_type": "code",
   "execution_count": null,
   "metadata": {},
   "outputs": [],
   "source": [
    "strvar.upper()"
   ]
  },
  {
   "cell_type": "code",
   "execution_count": null,
   "metadata": {},
   "outputs": [],
   "source": [
    "strvar.lower()"
   ]
  },
  {
   "cell_type": "code",
   "execution_count": null,
   "metadata": {},
   "outputs": [],
   "source": [
    "print(strvar.split(\"o\"))"
   ]
  },
  {
   "cell_type": "code",
   "execution_count": null,
   "metadata": {},
   "outputs": [],
   "source": [
    "print(strvar.split(sep=\"o\", maxsplit=1))"
   ]
  },
  {
   "cell_type": "code",
   "execution_count": null,
   "metadata": {},
   "outputs": [],
   "source": [
    "strvar.endswith(suffix)"
   ]
  },
  {
   "cell_type": "code",
   "execution_count": null,
   "metadata": {},
   "outputs": [],
   "source": [
    "print(strvar.split(sep=\"ö\", maxsplit=\"1\"))"
   ]
  },
  {
   "cell_type": "code",
   "execution_count": null,
   "metadata": {},
   "outputs": [],
   "source": [
    "print(strvar.split(sep=\"ö\", maxsplit=\"1\"))"
   ]
  },
  {
   "cell_type": "code",
   "execution_count": null,
   "metadata": {},
   "outputs": [],
   "source": [
    "print(strvar.split(sep=\"ö\", maxsplit=\"1\"))"
   ]
  },
  {
   "cell_type": "code",
   "execution_count": null,
   "metadata": {},
   "outputs": [],
   "source": [
    "a = True\n",
    "b = False\n",
    "print(a)"
   ]
  },
  {
   "cell_type": "code",
   "execution_count": null,
   "metadata": {},
   "outputs": [],
   "source": [
    "c = 'True'\n",
    "print(type(c))"
   ]
  },
  {
   "cell_type": "code",
   "execution_count": null,
   "metadata": {},
   "outputs": [],
   "source": [
    "print(type(a))"
   ]
  },
  {
   "cell_type": "code",
   "execution_count": null,
   "metadata": {},
   "outputs": [],
   "source": [
    "yas1 = 20\n",
    "yas2 =18\n",
    "print(yas1>18)"
   ]
  },
  {
   "cell_type": "code",
   "execution_count": null,
   "metadata": {},
   "outputs": [],
   "source": [
    "yas2 ==18"
   ]
  },
  {
   "cell_type": "code",
   "execution_count": null,
   "metadata": {},
   "outputs": [],
   "source": [
    "yas2 != 18"
   ]
  },
  {
   "cell_type": "code",
   "execution_count": null,
   "metadata": {},
   "outputs": [],
   "source": [
    "not yas2 > 18"
   ]
  },
  {
   "cell_type": "code",
   "execution_count": null,
   "metadata": {},
   "outputs": [],
   "source": [
    "liste = ['a', 'b', 'c','d', 'e', 'a']\n",
    "print(liste)"
   ]
  },
  {
   "cell_type": "code",
   "execution_count": null,
   "metadata": {},
   "outputs": [],
   "source": [
    "liste = liste + ['f']\n",
    "print(liste)"
   ]
  },
  {
   "cell_type": "code",
   "execution_count": null,
   "metadata": {},
   "outputs": [],
   "source": []
  },
  {
   "cell_type": "code",
   "execution_count": null,
   "metadata": {},
   "outputs": [],
   "source": []
  },
  {
   "cell_type": "code",
   "execution_count": null,
   "metadata": {},
   "outputs": [],
   "source": []
  },
  {
   "cell_type": "code",
   "execution_count": null,
   "metadata": {},
   "outputs": [],
   "source": []
  },
  {
   "cell_type": "code",
   "execution_count": null,
   "metadata": {},
   "outputs": [],
   "source": [
    "liste = ['a', 'b', 'c', 'd', 'e', 'a']\n",
    "print(liste)"
   ]
  },
  {
   "cell_type": "code",
   "execution_count": null,
   "metadata": {},
   "outputs": [],
   "source": [
    "liste = ['a', 'b', 'c', 'd', 'e', 'a']\n",
    "print(liste)"
   ]
  },
  {
   "cell_type": "code",
   "execution_count": null,
   "metadata": {},
   "outputs": [],
   "source": [
    "liste = liste + ['f']\n",
    "liste"
   ]
  },
  {
   "cell_type": "code",
   "execution_count": null,
   "metadata": {},
   "outputs": [],
   "source": [
    "liste[0]"
   ]
  },
  {
   "cell_type": "code",
   "execution_count": null,
   "metadata": {},
   "outputs": [],
   "source": [
    "liste[3:5]"
   ]
  },
  {
   "cell_type": "code",
   "execution_count": null,
   "metadata": {},
   "outputs": [],
   "source": [
    "liste.append('g')\n",
    "liste"
   ]
  },
  {
   "cell_type": "code",
   "execution_count": null,
   "metadata": {},
   "outputs": [],
   "source": [
    "liste.pop()\n",
    "liste"
   ]
  },
  {
   "cell_type": "code",
   "execution_count": null,
   "metadata": {},
   "outputs": [],
   "source": [
    "liste.pop(5)\n",
    "print(liste)"
   ]
  },
  {
   "cell_type": "code",
   "execution_count": null,
   "metadata": {},
   "outputs": [],
   "source": [
    "sayılar = [1,38,500, 22,45,157,1999]\n",
    "sayılar.sort()\n",
    "sayılar"
   ]
  },
  {
   "cell_type": "code",
   "execution_count": null,
   "metadata": {},
   "outputs": [],
   "source": [
    "sayılar.reverse()\n",
    "print(sayılar)"
   ]
  },
  {
   "cell_type": "code",
   "execution_count": null,
   "metadata": {},
   "outputs": [],
   "source": [
    "Hava_durumu = \"yagisli\"\n",
    "if Hava_durumu == 'yagisli':\n",
    "    print(\"semsiyeni al!\")"
   ]
  },
  {
   "cell_type": "code",
   "execution_count": null,
   "metadata": {},
   "outputs": [],
   "source": [
    "Hava_durumu = \"karlı\"\n",
    "if Hava_durumu == 'yagisli':\n",
    "    print(\"semsiyeni al!\")\n",
    "else:\n",
    "    print(\"sorun yok\")"
   ]
  },
  {
   "cell_type": "code",
   "execution_count": null,
   "metadata": {},
   "outputs": [],
   "source": [
    "Hava_durumu = \"karlı\"\n",
    "if Hava_durumu == 'yagisli':\n",
    "    print(\"semsiyeni al!\")\n",
    "elif Hava_durumu == 'karlı' :\n",
    "    print(\"atkını al\")\n",
    "else:\n",
    "    print(\"sorun yok\")"
   ]
  },
  {
   "cell_type": "code",
   "execution_count": null,
   "metadata": {},
   "outputs": [],
   "source": [
    "yas = 17\n",
    "if yas > 18 :\n",
    "    print(\"selam\")\n",
    "else: \n",
    "     print(\"sen buraya ait değilsin\")"
   ]
  },
  {
   "cell_type": "code",
   "execution_count": null,
   "metadata": {},
   "outputs": [],
   "source": [
    "Güncel liste['a', 'b', 'c', 'd']"
   ]
  },
  {
   "cell_type": "code",
   "execution_count": null,
   "metadata": {},
   "outputs": [],
   "source": [
    "if (hedef_harf in liste) and (hedef_harf == [0])\n",
    "     print('buldum ve listede ilk harf konumunda')\n",
    "elif hedef_harf in liste:\n",
    "     print('buldum ama ilk konumda değil')\n",
    "else:\n",
    "    liste.append(hedef_harf)\n",
    "    print('Güncel liste{}'.format(liste))"
   ]
  },
  {
   "cell_type": "code",
   "execution_count": null,
   "metadata": {},
   "outputs": [],
   "source": [
    "liste = ['a' , 'b' , 'c']\n",
    "hedef_harf = 'a'\n",
    "if (hedef_harf in liste) and (hedef_harf == liste[0]):\n",
    "     print('buldum ve listede ilk harf konumunda')\n",
    "elif hedef_harf in liste:\n",
    "     print('buldum ama ilk konumda değil')\n",
    "else:\n",
    "    liste.append(hedef_harf)\n",
    "    print('Güncel liste{}'.format(liste))"
   ]
  },
  {
   "cell_type": "code",
   "execution_count": null,
   "metadata": {},
   "outputs": [],
   "source": [
    "yorum_birakanlar = [\"Ismail Aydemir\" , \"Uygur Aydın\" , \"Naz Yagcioglu\" , \"Ferhat Ibrik\" , \"Ulas Acil\" , \"Bilal Kuruçay\"]\n",
    "for kullanici in yorum_birakanlar :\n",
    "    print(kullanici)"
   ]
  },
  {
   "cell_type": "code",
   "execution_count": null,
   "metadata": {},
   "outputs": [],
   "source": [
    "yorum_birakanlar = [\"Ali At\" , \"Mehmet Boga\" , \"Ibrahim Karakoc\" , \"Tunc Bakir\" , \"Atilla Ilhan\"]\n",
    "\n",
    "moderator = \"Ibrahim Karakoc\"\n",
    "\n",
    "kullanici_sayisi = 0\n",
    "moderator_sayisi = 0 \n",
    "for kullanici in yorum_birakanlar:\n",
    "       print(kullanici sayisi , kullanici)"
   ]
  },
  {
   "cell_type": "code",
   "execution_count": null,
   "metadata": {},
   "outputs": [],
   "source": [
    "yorum_birakanlar = [\"Ali At\" , \"Mehmet Boga\" , \"Ibrahim Karakoc\" , \"Tunc Bakir\" , \"Atilla Ilhan\"]\n",
    "\n",
    "moderator = \"Ibrahim Karakoc\"\n",
    "\n",
    "kullanici_sayisi = 0\n",
    "\n",
    "\n",
    "moderator_sayisi = 0 \n",
    "for kullanici in yorum_birakanlar:\n",
    "    kullanici_sayisi += 1\n",
    "    ad, soyad = kullanici.split()[0] , kullanici.split()[1]\n",
    "    if (kullanici == moderator):\n",
    "        moderator_sayisi +=1\n",
    "        print('{0}. Moderatörün adi {1}  ve Soyadi {2}'.format(moderator_sayisi , ad , soyad))\n",
    "    else:\n",
    "        kullanici_sayisi +=1\n",
    "        print('{0}. Kullanicinin adi {1} ve Soyadi {2}'.format(kullanici_sayisi , ad , soyad))"
   ]
  },
  {
   "cell_type": "code",
   "execution_count": null,
   "metadata": {},
   "outputs": [],
   "source": [
    "x = 0\n",
    "\n",
    "while x < 10:\n",
    "    print(\"{} 10'dan kücüktür\".format(x))"
   ]
  },
  {
   "cell_type": "code",
   "execution_count": null,
   "metadata": {},
   "outputs": [],
   "source": [
    "x = 0\n",
    "\n",
    "while x < 10:\n",
    "    print(\"{} 10'dan kücüktür\".format(x))\n",
    "    x += 1"
   ]
  },
  {
   "cell_type": "code",
   "execution_count": null,
   "metadata": {},
   "outputs": [],
   "source": [
    "x = 3! print(x)"
   ]
  },
  {
   "cell_type": "code",
   "execution_count": null,
   "metadata": {},
   "outputs": [],
   "source": [
    "x = 3!\n",
    "    print(x)"
   ]
  },
  {
   "cell_type": "code",
   "execution_count": null,
   "metadata": {},
   "outputs": [],
   "source": [
    "sayi = 6\n",
    "sonuc = 1\n",
    "\n",
    "while sayi > 0:\n",
    "     sonuc = sonuc*sayi\n",
    "     sayi -=1\n",
    "     print(sonuc)"
   ]
  },
  {
   "cell_type": "code",
   "execution_count": null,
   "metadata": {},
   "outputs": [],
   "source": [
    "range(10)\n",
    "list(range(10))"
   ]
  },
  {
   "cell_type": "code",
   "execution_count": null,
   "metadata": {},
   "outputs": [],
   "source": [
    "liste = [1,2,3]\n",
    "print(liste)"
   ]
  },
  {
   "cell_type": "code",
   "execution_count": null,
   "metadata": {},
   "outputs": [],
   "source": [
    "[*range(10)]"
   ]
  },
  {
   "cell_type": "code",
   "execution_count": null,
   "metadata": {},
   "outputs": [],
   "source": [
    "[*range(2,7,1)]"
   ]
  },
  {
   "cell_type": "code",
   "execution_count": null,
   "metadata": {},
   "outputs": [],
   "source": [
    "for sayi in range(10):\n",
    "     if sayi > 5:\n",
    "            print(sayi)"
   ]
  },
  {
   "cell_type": "code",
   "execution_count": null,
   "metadata": {},
   "outputs": [],
   "source": [
    "harfler = ['a' , 'b' , 'c' , 'd' , 'e']\n",
    "for index, harf in enumerate (harfler):\n",
    "    print(\"{}. harf: {}\".format(index+1 , harf))"
   ]
  },
  {
   "cell_type": "code",
   "execution_count": null,
   "metadata": {},
   "outputs": [],
   "source": [
    "ulkeler = ['TR' , 'FR' , 'DE']\n",
    "\n",
    "siralamalar = range(1,4)\n",
    "    \n",
    "for ulke in zip(ulkeler,siralamalar):\n",
    "    print(ulke)"
   ]
  },
  {
   "cell_type": "code",
   "execution_count": null,
   "metadata": {},
   "outputs": [],
   "source": [
    "harfler = ['a' , 'b' , 'c' , 'd' , 'e']\n",
    "\n",
    "for harf in enumerate (harfler):\n",
    "\n",
    "    if harf == 'c' :\n",
    "\n",
    "        print('{} harfi {}. indexte!'.format(harf , index))"
   ]
  },
  {
   "cell_type": "code",
   "execution_count": null,
   "metadata": {},
   "outputs": [],
   "source": [
    "harfler = ['a' , 'b' , 'c' , 'd' , 'e']  \n",
    "\n",
    "for index , harf in enumerate (harfler):\n",
    "\n",
    "    if harf == 'c' :\n",
    "\n",
    "    print('{} harfi {}. indexte!'.format(harf , index))"
   ]
  },
  {
   "cell_type": "code",
   "execution_count": null,
   "metadata": {},
   "outputs": [],
   "source": [
    "harfler = ['a' , 'b' , 'c' , 'd' , 'e'] *100 \n",
    "for index , harf in enumerate (harfler):\n",
    "    if harf == 'c' :\n",
    "        print('{} harfi {}. indexte!'.format(harf , index))\n",
    "        break"
   ]
  },
  {
   "cell_type": "code",
   "execution_count": null,
   "metadata": {},
   "outputs": [],
   "source": [
    "for sayi in range(1,6):\n",
    "    if sayi%2==0:\n",
    "        continue\n",
    "        print(sayi)"
   ]
  },
  {
   "cell_type": "code",
   "execution_count": null,
   "metadata": {},
   "outputs": [],
   "source": [
    "for sayi in range(1,6):\n",
    "    \n",
    "    if sayi%2==0:\n",
    "             pass\n",
    "    else:\n",
    "       \n",
    "       \n",
    "        print(sayi) "
   ]
  },
  {
   "cell_type": "code",
   "execution_count": null,
   "metadata": {},
   "outputs": [],
   "source": [
    "if sayi < 5:\n",
    "    pass\n",
    "else:\n",
    "    print(\"hey\")"
   ]
  },
  {
   "cell_type": "code",
   "execution_count": null,
   "metadata": {},
   "outputs": [],
   "source": [
    "kullanici1 = {\n",
    "    'ad' : 'Ferhat',\n",
    "    'soyad' : 'Ibrik',\n",
    "    'uzmanlik' : ['Front-end']\n",
    "}\n",
    "\n",
    "kullanici2 = {\n",
    "    'ad' : 'Gokce',\n",
    "    'soyad' : 'Gün',\n",
    "    'uzmanlik' : ['tasarim']\n",
    "}\n",
    "\n",
    "kullanici3 = {\n",
    "    'ad' : 'Mesut',\n",
    "    'soyad' : 'Gün',\n",
    "    'uzmanlik' : ['Front-end', 'yazilim']\n",
    "}\n",
    "\n",
    "\n",
    "kullanici_listesi=[kullanici1,kullanici2,kullanici3]\n",
    "kullanici_yaslari_listesi = [ 24,32,34]\n",
    "for kullanici, yas in zip(kullanici_listesi , kullanici_yaslari_listesi):\n",
    "    if yas<30:\n",
    "        print(kullanici)\n"
   ]
  },
  {
   "cell_type": "code",
   "execution_count": null,
   "metadata": {},
   "outputs": [],
   "source": [
    "for kullanici in kullanici_listesi:\n",
    "    if len(kullanici['uzmanlik']) > 1:\n",
    "        print(kullanici)"
   ]
  },
  {
   "cell_type": "code",
   "execution_count": null,
   "metadata": {},
   "outputs": [],
   "source": [
    "for kullanici in kullanici_listesi:\n",
    "    if len(kullanici['uzmanlik']) > 1:\n",
    "        print(kullanici)"
   ]
  },
  {
   "cell_type": "code",
   "execution_count": null,
   "metadata": {},
   "outputs": [],
   "source": [
    "for kullanici in kullanici_listesi:\n",
    "    if len(kullanici['uzmanlik']) > 1:\n",
    "        print(kullanici)"
   ]
  },
  {
   "cell_type": "code",
   "execution_count": null,
   "metadata": {},
   "outputs": [],
   "source": [
    "kullanici1 = {\n",
    "    'ad' : 'Ferhat',\n",
    "    'soyad' : 'Ibrik',\n",
    "    'uzmanlik' : ['Front-end']\n",
    "}\n",
    "\n",
    "kullanici2 = {\n",
    "    'ad' : 'Gokce',\n",
    "    'soyad' : 'Gün',\n",
    "    'uzmanlik' : ['tasarim']\n",
    "}\n",
    "\n",
    "kullanici3 = {\n",
    "    'ad' : 'Mesut',\n",
    "    'soyad' : 'Gün',\n",
    "    'uzmanlik' : ['Front-end']\n",
    "}\n",
    "\n",
    "kullanici_listesi=[kullanici1,kullanici2,kullanici3]\n",
    "\n",
    "for kullanici in kullanici_listesi:\n",
    "    if len(kullanici['uzmanlik'])>1:\n",
    "            print(kullanici)"
   ]
  },
  {
   "cell_type": "code",
   "execution_count": null,
   "metadata": {},
   "outputs": [],
   "source": [
    "for sayi in liste:\n",
    "    if sayi%(1,2,3......sayi-1,sayi)=1:\n",
    "        print('{} sayisi asaldır!')\n",
    "        else:\n",
    "            pass\n",
    "    print(3)"
   ]
  },
  {
   "cell_type": "code",
   "execution_count": null,
   "metadata": {},
   "outputs": [],
   "source": [
    "deger = 15\n",
    "x = deger-1\n",
    "while x>1:\n",
    "     if deger%x==0:\n",
    "        print('{} sayisi asal degil!'.format(deger))\n",
    "        break\n",
    "     \n",
    "     else:\n",
    "            x-=1\n",
    "else:\n",
    "     print('{} sayisi asaldir!'.format(deger))"
   ]
  },
  {
   "cell_type": "code",
   "execution_count": null,
   "metadata": {},
   "outputs": [],
   "source": [
    "deger = 13\n",
    "x = deger-1\n",
    "while x>1:\n",
    "\n",
    "    if deger%x==0:\n",
    "        print('{} sayisi asal degildir!'.format(deger))\n",
    "        break\n",
    "    else:\n",
    "        x-=1\n",
    "else:\n",
    "        print('{} sayisi asaldir!'.format(deger))"
   ]
  },
  {
   "cell_type": "code",
   "execution_count": null,
   "metadata": {},
   "outputs": [],
   "source": [
    "def bes_bastir():"
   ]
  },
  {
   "cell_type": "code",
   "execution_count": null,
   "metadata": {},
   "outputs": [],
   "source": [
    "def sayi_dondur(sayi):\n",
    "    return sayi\n",
    "sayi_dondur(555)"
   ]
  },
  {
   "cell_type": "code",
   "execution_count": null,
   "metadata": {},
   "outputs": [],
   "source": [
    "def buyuk_sayi_dondur(a,b):\n",
    "    if a>b:\n",
    "        return a\n",
    "    elif b>a:\n",
    "        return b"
   ]
  },
  {
   "cell_type": "code",
   "execution_count": null,
   "metadata": {},
   "outputs": [],
   "source": [
    "buyuk_sayi_dondur(331 , 881)"
   ]
  },
  {
   "cell_type": "code",
   "execution_count": null,
   "metadata": {},
   "outputs": [],
   "source": [
    "def bes_dondur():\n",
    "    return 5\n",
    "bes_dondur()"
   ]
  },
  {
   "cell_type": "code",
   "execution_count": null,
   "metadata": {},
   "outputs": [],
   "source": [
    "a = bes_bastir()\n",
    "a"
   ]
  },
  {
   "cell_type": "code",
   "execution_count": null,
   "metadata": {},
   "outputs": [],
   "source": [
    "def buyuk_sayi_dondur(a,b):\n",
    "    if a>b:\n",
    "        return a\n",
    "    elif b>a:\n",
    "        return b"
   ]
  },
  {
   "cell_type": "code",
   "execution_count": null,
   "metadata": {},
   "outputs": [],
   "source": [
    "def metin_yazdir(a,b):\n",
    "    buyuk_sayi = buyuk_sayi_dondur(a,b)\n",
    "    sablon_metin = \"{} daha büyük sayidir\".format(buyuk_sayi)\n",
    "    print(sablon_metin)"
   ]
  },
  {
   "cell_type": "code",
   "execution_count": null,
   "metadata": {},
   "outputs": [],
   "source": [
    "def isim_soyisim_ayirma(isim_soyisim):\n",
    "    isim = isim_soyisim.split()[0]\n",
    "    soyisim = isim_soyisim.split()[1]\n",
    "    return isim , soyisim\n",
    "isim_soyisim_ayirma(\"ibrahim Karakoc\")"
   ]
  },
  {
   "cell_type": "code",
   "execution_count": null,
   "metadata": {},
   "outputs": [],
   "source": [
    "\" \".join([\"ibrahim\" , \"Karakoc\"])"
   ]
  },
  {
   "cell_type": "code",
   "execution_count": null,
   "metadata": {},
   "outputs": [],
   "source": [
    "def isim_soyisim_birlestir(isim,soyisim):\n",
    "    return \" \".join([isim,soyisim])\n",
    "isim_soyisim_birlestir(\"ibrahim\" , \"karakoç\")"
   ]
  },
  {
   "cell_type": "code",
   "execution_count": null,
   "metadata": {},
   "outputs": [],
   "source": [
    "def isim_soyisim_birlestir(*args):\n",
    "    return \" \".join(args)\n",
    "isim_soyisim_birlestir(\"erol\" , \"mesut\" , \"gün\")"
   ]
  },
  {
   "cell_type": "code",
   "execution_count": null,
   "metadata": {},
   "outputs": [],
   "source": [
    "def gobek_adi_yazdir(**kwargs):\n",
    "    if 'gobekadi' in kwargs:\n",
    "        print(kwargs['gobekadi'])\n",
    "    else:\n",
    "        print('gobekadi yok')"
   ]
  },
  {
   "cell_type": "code",
   "execution_count": null,
   "metadata": {},
   "outputs": [],
   "source": [
    "gobek_adi_yazdir(adi= \"ibrahim\" ,gobekadi =\" mükremin\" , soyadi = \"karakoc\")"
   ]
  },
  {
   "cell_type": "code",
   "execution_count": null,
   "metadata": {},
   "outputs": [],
   "source": [
    "def karesini_al(x):\n",
    "    return x**2\n",
    "karesini_al(5)"
   ]
  },
  {
   "cell_type": "code",
   "execution_count": null,
   "metadata": {},
   "outputs": [],
   "source": [
    "sayilar = [*range(1,6)]\n",
    "sayilar"
   ]
  },
  {
   "cell_type": "code",
   "execution_count": null,
   "metadata": {},
   "outputs": [],
   "source": [
    "sayilar = [*range(1,6)]\n",
    "print(sayilar)\n",
    "for index in range(len(sayilar)):\n",
    "    sayilar[index] = karesini_al(sayilar[index])\n",
    "print(sayilar)"
   ]
  },
  {
   "cell_type": "code",
   "execution_count": null,
   "metadata": {},
   "outputs": [],
   "source": [
    "sayilar = [*range(1,6)]\n",
    "map(karesini_al , sayilar)"
   ]
  },
  {
   "cell_type": "code",
   "execution_count": null,
   "metadata": {},
   "outputs": [],
   "source": [
    "sayilar = [*range(1,6)]\n",
    "[*map(karesini_al , sayilar)]"
   ]
  },
  {
   "cell_type": "code",
   "execution_count": null,
   "metadata": {},
   "outputs": [],
   "source": [
    "def cift_sayilari_filtrele(x):\n",
    "    if x%2==0:\n",
    "        return x\n",
    "cift_sayilari_filtrele(12)"
   ]
  },
  {
   "cell_type": "code",
   "execution_count": null,
   "metadata": {},
   "outputs": [],
   "source": [
    "def cift_sayilari_filtrele(x):\n",
    "    return x if x%2==0 else None\n",
    "cift_sayilari_filtrele(10)"
   ]
  },
  {
   "cell_type": "code",
   "execution_count": null,
   "metadata": {},
   "outputs": [],
   "source": [
    "sayilar = [*range(1,6)]\n",
    "filter(cift_sayilari_filtrele , sayilar)"
   ]
  },
  {
   "cell_type": "code",
   "execution_count": null,
   "metadata": {},
   "outputs": [],
   "source": [
    "sayilar = [*range(1,6)]\n",
    "[*filter(cift_sayilari_filtrele , sayilar)]"
   ]
  },
  {
   "cell_type": "code",
   "execution_count": null,
   "metadata": {},
   "outputs": [],
   "source": [
    "sayilar = [*range(1,6)]\n",
    "list(map(lambda sayi: sayi**2 , sayilar))"
   ]
  },
  {
   "cell_type": "code",
   "execution_count": null,
   "metadata": {},
   "outputs": [],
   "source": [
    "sayilar = [*range(1,6)]\n",
    "[*filter(lambda x: x if x%2==0 else None , sayilar)]"
   ]
  },
  {
   "cell_type": "code",
   "execution_count": null,
   "metadata": {},
   "outputs": [],
   "source": [
    "input(\"Bir sayi girin:\")"
   ]
  },
  {
   "cell_type": "code",
   "execution_count": null,
   "metadata": {},
   "outputs": [],
   "source": [
    "girdi = input(\"Bir sayi girin:\")\n",
    "type(intgirdi)"
   ]
  },
  {
   "cell_type": "code",
   "execution_count": null,
   "metadata": {},
   "outputs": [],
   "source": [
    "def uygulama():\n",
    "    girdi = input(\"Bir sayi girin:\")\n",
    "    islem = (\"verinin çift mi tek mi oldığunu sorgula:\")"
   ]
  },
  {
   "cell_type": "code",
   "execution_count": null,
   "metadata": {},
   "outputs": [],
   "source": [
    "def sayi_girdisi_kontrol():\n",
    "    girdi = input(\"Bir sayi giriniz\")\n",
    "    if girdi.isdigit():\n",
    "        print(\"Tebrikler! Bir sayi tipi deger girdiniz\")\n",
    "    else:\n",
    "        print(\"Üzgünüm! Bu bir sayi tipi deger degildir\")\n",
    "sayi_girdisi_kontrol()"
   ]
  },
  {
   "cell_type": "code",
   "execution_count": null,
   "metadata": {},
   "outputs": [],
   "source": [
    "def sayi_girdisi_kontrol():\n",
    "    girdi = input(\"Bir sayi giriniz\")\n",
    "    if girdi.isdigit():\n",
    "        print(\"Tebrikler! Bir sayi tipi deger girdiniz\")\n",
    "    else:\n",
    "        print(\"Üzgünüm! Bu bir sayi tipi deger degildir\")\n",
    "sayi_girdisi_kontrol()"
   ]
  },
  {
   "cell_type": "code",
   "execution_count": null,
   "metadata": {},
   "outputs": [],
   "source": [
    "def sayi_girdisi_kontrol_dongu():\n",
    "    girdi = input(\"Bir sayi giriniz\")\n",
    "    while not girdi.isdigit():\n",
    "        print(\"Üzgünüm! Bu bir sayi tipi değişken değildir\")\n",
    "        girdi = input(\"Bir sayi giriniz\")\n",
    "    else:\n",
    "        print(\"Tebrikler! Bir sayi tipi değer girdiniz\")\n",
    "sayi_girdisi_kontrol_dongu()"
   ]
  },
  {
   "cell_type": "code",
   "execution_count": null,
   "metadata": {},
   "outputs": [],
   "source": [
    "def eposta_kontrol():\n",
    "    girdi = input(\"Gecerli bir e-posta adresi giriniz:\")\n",
    "    # karakoc.i@gmail.com\n",
    "    while not (('.' in girdi) and ('@'  in girdi)):\n",
    "        print(\"Üzgünüm! Bu geçerli bir e-posta adresi değildir..\")\n",
    "        girdi = input(\"Gecerli bir e-posta adresi giriniz:\")\n",
    "    \n",
    "    else:\n",
    "            print(\"Tebrikler! E-posta adresinize başarıyla giriş yaptınız...\") \n",
    "eposta_kontrol()"
   ]
  },
  {
   "cell_type": "code",
   "execution_count": null,
   "metadata": {},
   "outputs": [],
   "source": [
    "round(1.3)"
   ]
  },
  {
   "cell_type": "code",
   "execution_count": null,
   "metadata": {},
   "outputs": [],
   "source": [
    "round(1.6)"
   ]
  },
  {
   "cell_type": "code",
   "execution_count": null,
   "metadata": {},
   "outputs": [],
   "source": [
    "def tam_sayiya_cevir():\n",
    "    \n",
    "    girdi = input(\"Bir ondalık sayı giriniz:\")\n",
    "    print(\"Yuvarlama işleminin sonucu {}\".format(round(float(girdi)))"
   ]
  },
  {
   "cell_type": "code",
   "execution_count": null,
   "metadata": {},
   "outputs": [],
   "source": [
    "tam_sayiya_cevir()"
   ]
  },
  {
   "cell_type": "code",
   "execution_count": null,
   "metadata": {},
   "outputs": [],
   "source": [
    "def ustel_sayi_v1(a,b):\n",
    "    return a**b\n",
    "ustel_sayi_v1(4,7)"
   ]
  },
  {
   "cell_type": "code",
   "execution_count": null,
   "metadata": {},
   "outputs": [],
   "source": [
    "def ustel_sayi_v2(a,b):\n",
    "    sonuc = 1\n",
    "    for kuvvet in range(1,b+1):\n",
    "        sonuc = sonuc*a\n",
    "    return sonuc\n",
    "ustel_sayi_v2(4,3)"
   ]
  },
  {
   "cell_type": "code",
   "execution_count": null,
   "metadata": {},
   "outputs": [],
   "source": [
    "def listedeki_en_buyuk_iki_sayi(liste):\n",
    "    liste.sort()\n",
    "    return liste[-1] , liste[-2]"
   ]
  },
  {
   "cell_type": "code",
   "execution_count": null,
   "metadata": {},
   "outputs": [],
   "source": [
    "  liste = [385,777,1025,35,841,93,500]\n",
    "    listedeki_en_buyuk_iki_sayi(liste)"
   ]
  },
  {
   "cell_type": "code",
   "execution_count": null,
   "metadata": {},
   "outputs": [],
   "source": [
    "def str_filtrele(liste):\n",
    "    sonuc = []\n",
    "    for x in liste:\n",
    "        if type(x)==str:\n",
    "            sonuc.append(x)\n",
    "    else:\n",
    "        pass\n",
    "        return sonuc"
   ]
  },
  {
   "cell_type": "code",
   "execution_count": null,
   "metadata": {},
   "outputs": [],
   "source": [
    "str_filtrele([8,9,'abc', 90,True,'e'])"
   ]
  },
  {
   "cell_type": "code",
   "execution_count": null,
   "metadata": {},
   "outputs": [],
   "source": [
    "def paradan_alti_sifir_at(liste):\n",
    "    sonuc = []\n",
    "    for x in liste:\n",
    "        sonuc.append(x/1000000)\n",
    "    return sonuc"
   ]
  },
  {
   "cell_type": "code",
   "execution_count": null,
   "metadata": {},
   "outputs": [],
   "source": [
    "def zaman_verisi_al():\n",
    "    saat = input(\"Saat giriniz\")\n",
    "    if saat.isdigit():\n",
    "        saat =  int(saat)\n",
    "        if(saat>=0) and (saat<24):\n",
    "            dakika = input(\"Dakika giriniz\")\n",
    "            if dakika.isdigit():\n",
    "                dakika = int(dakika)\n",
    "                if(dakika>=0) and (dakika<60):\n",
    "                    return 'Giriş yapılan zaman {}:{}'.format(saat,dakika)\n",
    "                else:\n",
    "                    return 'Girilen dakika aralığı yanlış'\n",
    "            else:\n",
    "                return 'Girilen dakika yanlış veri tipinde'\n",
    "        else:\n",
    "            return 'Girilen saat aralığı yanlış'\n",
    "    else:\n",
    "        return 'Girilen saat yanlış veri tipinde'"
   ]
  },
  {
   "cell_type": "code",
   "execution_count": null,
   "metadata": {},
   "outputs": [],
   "source": [
    "zaman_verisi_al()"
   ]
  },
  {
   "cell_type": "code",
   "execution_count": null,
   "metadata": {},
   "outputs": [],
   "source": [
    "class ucus():\n",
    "    havayolu = \"THY\"\n",
    "ucus1 = ucus()\n",
    "ucus1.havayolu"
   ]
  },
  {
   "cell_type": "code",
   "execution_count": null,
   "metadata": {},
   "outputs": [],
   "source": [
    "class Ucus():\n",
    "    havayolu = \"THY\"\n",
    "\n",
    "    def __init__(self , kod , kalkis , varis , sure , kapasite , yolcu):\n",
    "        self.kod = kod\n",
    "        self.kalkis = kalkis\n",
    "        self.varis = varis\n",
    "        self.sure = sure\n",
    "        self.kapasite = kapasite\n",
    "        self.yolcu = yolcu"
   ]
  },
  {
   "cell_type": "code",
   "execution_count": null,
   "metadata": {},
   "outputs": [],
   "source": [
    "Ucus2 = Ucus('tk123','IST','ANK',60,300,50)"
   ]
  },
  {
   "cell_type": "code",
   "execution_count": null,
   "metadata": {},
   "outputs": [],
   "source": [
    "Ucus2.varis"
   ]
  },
  {
   "cell_type": "code",
   "execution_count": null,
   "metadata": {},
   "outputs": [],
   "source": [
    "class Ucus():\n",
    "    havayolu = \"THY\"\n",
    "\n",
    "    def __init__(self , kod , kalkis , varis , sure , kapasite , yolcu):\n",
    "        self.kod = kod\n",
    "        self.kalkis = kalkis\n",
    "        self.varis = varis\n",
    "        self.sure = sure\n",
    "        self.kapasite = kapasite\n",
    "        self.yolcu = yolcu\n",
    "    def anons_yap(self):\n",
    "        return \"{} sayılı {}-{} uçuşumuz {} dakika sürecektir\".format(\n",
    "        self.kod,\n",
    "        self.kalkis,\n",
    "        self.varis,\n",
    "        self.sure)"
   ]
  },
  {
   "cell_type": "code",
   "execution_count": null,
   "metadata": {},
   "outputs": [],
   "source": [
    "Ucus3 = Ucus('TK255' , 'MAR' , 'KAY' , 45 , 250 , 240)"
   ]
  },
  {
   "cell_type": "code",
   "execution_count": null,
   "metadata": {},
   "outputs": [],
   "source": [
    "Ucus3.anons_yap()"
   ]
  },
  {
   "cell_type": "code",
   "execution_count": null,
   "metadata": {},
   "outputs": [],
   "source": [
    "class Ucus():\n",
    "    havayolu = \"THY\"\n",
    "\n",
    "    def __init__(self , kod , kalkis , varis , sure , kapasite , yolcu):\n",
    "        self.kod = kod\n",
    "        self.kalkis = kalkis\n",
    "        self.varis = varis\n",
    "        self.sure = sure\n",
    "        self.kapasite = kapasite\n",
    "        self.yolcu = yolcu\n",
    "    def anons_yap(self):\n",
    "        return \"{} sayılı {}-{} uçuşumuz {} dakika sürecektir\".format(\n",
    "        self.kod,\n",
    "        self.kalkis,\n",
    "        self.varis,\n",
    "        self.sure)\n",
    "    def koltuk_sayisi_güncelle(self):\n",
    "        return self.kapasite-self.yolcu\n",
    "    def bilet_satis(self):\n",
    "        #self.yolcu = self.yolcu+bilet_adedi\n",
    "        self_yolcu+=bilet_adedi\n",
    "        self.koltuk_sayisi_güncelle()\n",
    "        print('{} adet bilet satılmıştır. Kalan koltuk sayısı {}'.format(bilet_adedi,\n",
    "         self.koltuk_sayisi_güncelle)))\n",
    "        else:\n",
    "            print('işlem gerçekleştirilemedi. Yetersiz koltuk sayısı...')\n",
    "    def bilet_iptal(self , bilet_adedi=1):\n",
    "        if self.yolcu>=bilet_adedi:\n",
    "            self.yolcu-=bilet_adedi\n",
    "            print('{} Bilet iptal edilmiştir. Güncel koltuk sayısı {}'.format(\n",
    "                bilet_adedi,\n",
    "                self.koltuk_sayisi_güncelle()))\n",
    "        else:\n",
    "            print('İşlem gerçekleştirilemedi. İptal edilecek kadar yolcu yok')"
   ]
  },
  {
   "cell_type": "code",
   "execution_count": null,
   "metadata": {},
   "outputs": [],
   "source": [
    "Ucus3 = Ucus('TK227' , 'BOD' , 'ANT' , 48 , 250 , 215)\n",
    "Ucus3.koltuk_sayisi_güncelle()"
   ]
  },
  {
   "cell_type": "code",
   "execution_count": null,
   "metadata": {},
   "outputs": [],
   "source": [
    "Ucus3.bilet_iptal(3)"
   ]
  },
  {
   "cell_type": "code",
   "execution_count": null,
   "metadata": {},
   "outputs": [],
   "source": [
    "class Ucus():\n",
    "    havayolu = \"THY\"\n",
    "\n",
    "    def __init__(self , kod , kalkis , varis , sure , kapasite , yolcu):\n",
    "        self.kod = kod\n",
    "        self.kalkis = kalkis\n",
    "        self.varis = varis\n",
    "        self.sure = sure\n",
    "        self.kapasite = kapasite\n",
    "        self.yolcu = yolcu\n",
    "    def __repr__(self):\n",
    "        return \"{} Sefer sayili uçuş sistemde oluşturulmuştur\".format(self.kod)\n",
    "    def anons_yap(self):\n",
    "        return \"{} sayılı {}-{} uçuşumuz {} dakika sürecektir\".format(\n",
    "        self.kod,\n",
    "        self.kalkis,\n",
    "        self.varis,\n",
    "        self.sure)\n",
    "    def koltuk_sayisi_güncelle(self):\n",
    "        return self.kapasite-self.yolcu\n",
    "    def bilet_satis(self):\n",
    "        #self.yolcu = self.yolcu+bilet_adedi\n",
    "        if self.yolcu + bilet_adedi <= self.kapasite:\n",
    "            self.koltuk_sayisi_güncelle()\n",
    "            print('{} adet bilet satılmıştır. Kalan koltuk sayısı {}'.format(bilet_adedi,\n",
    "             self.koltuk_sayisi_güncelle()))\n",
    "        \n",
    "        else:\n",
    "            print('işlem gerçekleştirilemedi. Yetersiz koltuk sayısı...')\n",
    "    def bilet_iptal(self , bilet_adedi=1):\n",
    "        if self.yolcu>=bilet_adedi:\n",
    "            self.yolcu-=bilet_adedi\n",
    "            print('{} Bilet iptal edilmiştir. Güncel koltuk sayısı {}'.format(\n",
    "                bilet_adedi,\n",
    "                self.koltuk_sayisi_güncelle()))\n",
    "        else:\n",
    "            print('İşlem gerçekleştirilemedi. İptal edilecek kadar yolcu yok')"
   ]
  },
  {
   "cell_type": "code",
   "execution_count": null,
   "metadata": {},
   "outputs": [],
   "source": [
    "Ucus3 = Ucus('TK124' , 'BOD' , 'ANT' , 48 , 270 , 225)"
   ]
  },
  {
   "cell_type": "code",
   "execution_count": null,
   "metadata": {},
   "outputs": [],
   "source": [
    "Ucus3.__dir__()"
   ]
  },
  {
   "cell_type": "code",
   "execution_count": null,
   "metadata": {},
   "outputs": [],
   "source": [
    "Ucus3"
   ]
  },
  {
   "cell_type": "code",
   "execution_count": null,
   "metadata": {},
   "outputs": [],
   "source": [
    "class Seyahat():\n",
    "   \n",
    "    def __init__(self , kalkis , varis):\n",
    "        self.kalkis = kalkis\n",
    "        self.varis = varis\n",
    "    def anons(self):\n",
    "        return \"{}-{} Seferine hoşgeldiniz\".format(self.kalkis , self.varis)\n",
    "    \n",
    "class Otobus(Seyahat):\n",
    "    \n",
    "    def __init__(self , mola_duraklari):\n",
    "        Seyahat._init_(self , 'IST' , 'ANK')\n",
    "        self.mola_duraklari = mola_duraklari"
   ]
  },
  {
   "cell_type": "code",
   "execution_count": null,
   "metadata": {},
   "outputs": [],
   "source": [
    "Seyahat1 = Seyahat('ANT', 'BOD')\n",
    "Seyahat1.anons()"
   ]
  },
  {
   "cell_type": "code",
   "execution_count": null,
   "metadata": {},
   "outputs": [],
   "source": [
    "Oto1 = Otobus(['FET' , 'ALAN'])\n",
    "Oto1.mola_duraklari"
   ]
  },
  {
   "cell_type": "code",
   "execution_count": null,
   "metadata": {},
   "outputs": [],
   "source": [
    "%ls"
   ]
  },
  {
   "cell_type": "code",
   "execution_count": null,
   "metadata": {},
   "outputs": [],
   "source": [
    "%pwd"
   ]
  },
  {
   "cell_type": "code",
   "execution_count": null,
   "metadata": {},
   "outputs": [],
   "source": [
    "import os"
   ]
  },
  {
   "cell_type": "code",
   "execution_count": null,
   "metadata": {},
   "outputs": [],
   "source": [
    "os.getcwd()"
   ]
  },
  {
   "cell_type": "code",
   "execution_count": null,
   "metadata": {},
   "outputs": [],
   "source": [
    "os.listdir()"
   ]
  },
  {
   "cell_type": "code",
   "execution_count": null,
   "metadata": {},
   "outputs": [],
   "source": [
    "os.listdir('C:\\\\Users')"
   ]
  },
  {
   "cell_type": "code",
   "execution_count": null,
   "metadata": {},
   "outputs": [],
   "source": [
    "os.chdir('C:\\\\Users')"
   ]
  },
  {
   "cell_type": "code",
   "execution_count": null,
   "metadata": {},
   "outputs": [],
   "source": [
    "os.chdir('C:\\\\Users\\\\feder')"
   ]
  },
  {
   "cell_type": "code",
   "execution_count": null,
   "metadata": {},
   "outputs": [],
   "source": [
    "dosyalar = os.listdir()\n",
    "for eleman in dosyalar:\n",
    "    print(eleman)"
   ]
  },
  {
   "cell_type": "code",
   "execution_count": null,
   "metadata": {},
   "outputs": [],
   "source": [
    "os.mkdir('C:\\\\Users\\\\feder\\\\deneme_klasöru')"
   ]
  },
  {
   "cell_type": "code",
   "execution_count": null,
   "metadata": {},
   "outputs": [],
   "source": [
    "os.listdir()"
   ]
  },
  {
   "cell_type": "code",
   "execution_count": null,
   "metadata": {},
   "outputs": [],
   "source": [
    "os.rmdir('C:\\\\Users\\\\feder\\\\deneme_klasöru')"
   ]
  },
  {
   "cell_type": "code",
   "execution_count": null,
   "metadata": {},
   "outputs": [],
   "source": [
    "os.listdir()"
   ]
  },
  {
   "cell_type": "code",
   "execution_count": null,
   "metadata": {},
   "outputs": [],
   "source": [
    "yeni_dosya = os.open('yeni_dosya.txt' , os.O_RDWR|os.O_CREAT)\n",
    "os.write(yeni_dosya , \"merhaba dünya!\".encode())\n",
    "os.close(yeni_dosya)"
   ]
  },
  {
   "cell_type": "code",
   "execution_count": null,
   "metadata": {},
   "outputs": [],
   "source": [
    "yeni_dosya = os.open('yeni_dosya.txt' , os.O_RDONLY)\n",
    "istatistik = os.stat(yeni_dosya)\n",
    "#içerik = os.read(yeni_dosya , 5)\n",
    "#print(içerik)\n",
    "print(istatistik)\n",
    "os.close(yeni_dosya)"
   ]
  },
  {
   "cell_type": "code",
   "execution_count": null,
   "metadata": {},
   "outputs": [],
   "source": [
    "yeni_dosya = os.open('yeni_dosya.txt' , os.O_RDONLY)\n",
    "uzunluk = os.stat(yeni_dosya).st_size\n",
    "içerik = os.read(yeni_dosya , uzunluk)\n",
    "print(içerik.decode())\n",
    "os.close(yeni_dosya)"
   ]
  },
  {
   "cell_type": "code",
   "execution_count": null,
   "metadata": {},
   "outputs": [],
   "source": [
    "os.unlink('yeni_dosya.txt')"
   ]
  },
  {
   "cell_type": "code",
   "execution_count": null,
   "metadata": {},
   "outputs": [],
   "source": [
    "os.mkdir(\"deneme_yeni\")"
   ]
  },
  {
   "cell_type": "code",
   "execution_count": null,
   "metadata": {},
   "outputs": [],
   "source": [
    "os.rename(\"deneme_yeni\" , \"deneme_eski\")"
   ]
  },
  {
   "cell_type": "code",
   "execution_count": null,
   "metadata": {},
   "outputs": [],
   "source": [
    "os.listdir()"
   ]
  },
  {
   "cell_type": "code",
   "execution_count": null,
   "metadata": {},
   "outputs": [],
   "source": [
    "import re"
   ]
  },
  {
   "cell_type": "code",
   "execution_count": null,
   "metadata": {},
   "outputs": [],
   "source": [
    "cumle = \"Mustafa Kemal Atatürk , Türk asker , devlet adamı ve Türkiye Cumhuriyeti Devletinin kurucusudur.\"\n",
    "patern = \"Türk\"\n",
    "re.search(patern , cumle)"
   ]
  },
  {
   "cell_type": "code",
   "execution_count": null,
   "metadata": {},
   "outputs": [],
   "source": [
    "durum = re.search(patern , cumle)\n",
    "durum.span()"
   ]
  },
  {
   "cell_type": "code",
   "execution_count": null,
   "metadata": {},
   "outputs": [],
   "source": [
    "dir(durum)"
   ]
  },
  {
   "cell_type": "code",
   "execution_count": null,
   "metadata": {},
   "outputs": [],
   "source": [
    "durum.start()"
   ]
  },
  {
   "cell_type": "code",
   "execution_count": null,
   "metadata": {},
   "outputs": [],
   "source": [
    "durum.end()"
   ]
  },
  {
   "cell_type": "code",
   "execution_count": null,
   "metadata": {},
   "outputs": [],
   "source": [
    "durum.group()"
   ]
  },
  {
   "cell_type": "code",
   "execution_count": null,
   "metadata": {},
   "outputs": [],
   "source": [
    "for eslesme in re.findall(patern , cumle):\n",
    "    print(eslesme)"
   ]
  },
  {
   "cell_type": "code",
   "execution_count": null,
   "metadata": {},
   "outputs": [],
   "source": [
    "for eslesme in findall(patern , cumle):\n",
    "    print(eslesme.span() , eslesme.group())"
   ]
  },
  {
   "cell_type": "code",
   "execution_count": null,
   "metadata": {},
   "outputs": [],
   "source": [
    "for eslesme in re.finditer(patern , cumle):\n",
    "    print(eslesme.span() , eslesme.group())"
   ]
  },
  {
   "cell_type": "code",
   "execution_count": null,
   "metadata": {},
   "outputs": [],
   "source": [
    "ornek = \"base42\"\n",
    "patern = \"base\\d\\d\"\n",
    "re.search(patern , ornek)"
   ]
  },
  {
   "cell_type": "code",
   "execution_count": null,
   "metadata": {},
   "outputs": [],
   "source": [
    "ornek = \"En sevdiğim kanal base42\"\n",
    "patern = \"base\\d\\d\"\n",
    "re.search(patern , ornek)"
   ]
  },
  {
   "cell_type": "code",
   "execution_count": null,
   "metadata": {},
   "outputs": [],
   "source": [
    "ornek = \"base42\"\n",
    "patern = r\"base\\d\\d\"\n",
    "re.search(patern , ornek)"
   ]
  },
  {
   "cell_type": "code",
   "execution_count": null,
   "metadata": {},
   "outputs": [],
   "source": [
    "cumle = \"Selam benim telefon numaram 0555-1760209\"\n",
    "patern = r\"\\d\\d\\d\\d-\\d\\d\\d\\d\\d\\d\\d\"\n",
    "re.search(patern , cumle)"
   ]
  },
  {
   "cell_type": "code",
   "execution_count": null,
   "metadata": {},
   "outputs": [],
   "source": [
    "import re"
   ]
  },
  {
   "cell_type": "code",
   "execution_count": null,
   "metadata": {},
   "outputs": [],
   "source": [
    "cumle = \"Selam ,  benim telefon numaram 0555-1760209.\"\n",
    "patern = r\"\\d{3,4}-\\d{7}\"\n",
    "re.search(patern , cumle)"
   ]
  },
  {
   "cell_type": "code",
   "execution_count": null,
   "metadata": {},
   "outputs": [],
   "source": [
    "cumle = \"en sevdigim kanal base42\"\n",
    "patern = r\"\\s\\w{5,}\"\n",
    "for eslesme in re.finditer(patern , cumle):\n",
    "    print(eslesme.group() , eslesme.span())"
   ]
  },
  {
   "cell_type": "code",
   "execution_count": null,
   "metadata": {},
   "outputs": [],
   "source": [
    "patern = r\"\\d?\"\n",
    "\n",
    "for eslesme in re.finditer(patern , cumle):\n",
    "    print(eslesme.group() , eslesme.span())"
   ]
  },
  {
   "cell_type": "code",
   "execution_count": null,
   "metadata": {},
   "outputs": [],
   "source": [
    "patern = r\"\\d+\"\n",
    "\n",
    "for eslesme in re.finditer(patern , cumle):\n",
    "    print(eslesme.group() , eslesme.span())"
   ]
  },
  {
   "cell_type": "code",
   "execution_count": null,
   "metadata": {},
   "outputs": [],
   "source": [
    "patern = r\"\\w*\\d+\"\n",
    "\n",
    "for eslesme in re.finditer(patern , cumle):\n",
    "    print(eslesme.group() , eslesme.span())"
   ]
  },
  {
   "cell_type": "code",
   "execution_count": null,
   "metadata": {},
   "outputs": [],
   "source": [
    "cumle = \"En sevdigin kanal 42base\"\n",
    "patern = r\"\\w*\\d+\"\n",
    "\n",
    "for eslesme in re.finditer(patern , cumle):\n",
    "    print(eslesme.group() , eslesme.span())"
   ]
  },
  {
   "cell_type": "code",
   "execution_count": null,
   "metadata": {},
   "outputs": [],
   "source": [
    "def gsm_operator_bul(tel_no):\n",
    "    patern = r\"(\\d{3,4})-(\\d{7})\"\n",
    "    eslesme = re.search(patern , tel_no)\n",
    "    return eslesme"
   ]
  },
  {
   "cell_type": "code",
   "execution_count": null,
   "metadata": {},
   "outputs": [],
   "source": [
    "tel_no =\" 0555-1760209\"\n",
    "gsm_operator_bul(tel_no)"
   ]
  },
  {
   "cell_type": "code",
   "execution_count": null,
   "metadata": {},
   "outputs": [],
   "source": [
    "def gsm_operator_bul(tel_no):\n",
    "    patern = r\"(\\d{3,4})-(\\d{7})\"\n",
    "    eslesme = re.search(patern , tel_no)\n",
    "    if eslesme:\n",
    "        gsm_kod = eslesme.groups()[0]\n",
    "        if gsm_kod.startswith(\"54\"):\n",
    "            return \"Vodafone\"\n",
    "        elif gsm_kod.startswith(\"501\") or gsm_kod.startswith(\"505\") or gsm_kod.startswith(\"506\"):\n",
    "             return \"AVEA\"\n",
    "        elif gsm_kod.startswith(\"53\"):\n",
    "             return \"Turkcell\"\n",
    "        else:\n",
    "            return \"Sebeke bulunamadi.\"\n",
    "    else:\n",
    "        return  \"Patern bulunamadi.\""
   ]
  },
  {
   "cell_type": "code",
   "execution_count": null,
   "metadata": {},
   "outputs": [],
   "source": [
    "tel_no = \"0555-1760209\"\n",
    "gsm_operator_bul(tel_no)"
   ]
  },
  {
   "cell_type": "code",
   "execution_count": null,
   "metadata": {},
   "outputs": [],
   "source": [
    "import re"
   ]
  },
  {
   "cell_type": "code",
   "execution_count": null,
   "metadata": {},
   "outputs": [],
   "source": [
    "import sys"
   ]
  },
  {
   "cell_type": "code",
   "execution_count": null,
   "metadata": {},
   "outputs": [],
   "source": [
    "sys.setrecursionlimit(3000)"
   ]
  },
  {
   "cell_type": "code",
   "execution_count": null,
   "metadata": {},
   "outputs": [],
   "source": [
    "def mesaj_hissi_bul(mesaj):\n",
    "    \n",
    "    hisler = []\n",
    "    \n",
    "    pozitif_patern = r\"(merhaba|selam|ask|sevgi|dostuk|kardeslik|:\\)+)\"\n",
    "    negatif_patern = r\"(lan|aptal|abv|yeter|bırak)\"\n",
    "    \n",
    "    heyacanli_patern= r\"[!|?]{2,}$\"\n",
    "    sakin_patern = r\"^[Tabi+|Hayhay]\"\n",
    "    \n",
    "    emin_patern = r\"[K|k]esin[T|t]abi[E|e]lbet\"\n",
    "    kararsiz_patern = r\"[B|b]elki[S|s]anirim\"\n",
    "    \n",
    "    if re.search(pozitif_patern , mesaj):\n",
    "        hisler.append(\"pozitif\")\n",
    "    if re.search(negatif_patern , mesaj):\n",
    "        hisler.append(\"negatif\")\n",
    "    if re.search(heyacanli_patern , mesaj):\n",
    "        hisler.append(\"heyecanli\")\n",
    "    if re.search(sakin_patern , mesaj):\n",
    "        hisler.append(\"sakin\")\n",
    "    if re.search(emin_patern , mesaj):\n",
    "        hisler.append(\"emin\")\n",
    "    if re.search(kararsiz_patern , mesaj):\n",
    "        hisler.append(\"kararsiz\")\n",
    "        \n",
    "        return hisler"
   ]
  },
  {
   "cell_type": "code",
   "execution_count": null,
   "metadata": {},
   "outputs": [],
   "source": [
    "cumle1 = \"Naber abi? :)             \"\n",
    "    cumle2 = \"Tabii ki buyrun           \"\n",
    "    cumle3 = \"Sacmalamayi birak artik!  \"\n",
    "    cumle4 = \"Belki yarindan da yakin...\"\n",
    "    cumle5 = \"Elbet bir gun bulusacagiz \"\n",
    "\n",
    "    cumleler = [cumle1 , cumle2 , cumle3 , cumle4 , cumle5]\n",
    "   \n",
    "    for cumle in cumleler:\n",
    "        \n",
    "        print(cumle , '\\t' , mesaj_hissi_bul(cumle))"
   ]
  },
  {
   "cell_type": "code",
   "execution_count": null,
   "metadata": {},
   "outputs": [],
   "source": [
    "import random"
   ]
  },
  {
   "cell_type": "code",
   "execution_count": null,
   "metadata": {},
   "outputs": [],
   "source": [
    "random.__dir__()"
   ]
  },
  {
   "cell_type": "code",
   "execution_count": null,
   "metadata": {},
   "outputs": [],
   "source": [
    " help(random)"
   ]
  },
  {
   "cell_type": "code",
   "execution_count": null,
   "metadata": {},
   "outputs": [],
   "source": [
    " random.random()"
   ]
  },
  {
   "cell_type": "code",
   "execution_count": null,
   "metadata": {},
   "outputs": [],
   "source": [
    "random.uniform(1 , 100)"
   ]
  },
  {
   "cell_type": "code",
   "execution_count": null,
   "metadata": {},
   "outputs": [],
   "source": [
    "random.randint(1 , 1000)"
   ]
  },
  {
   "cell_type": "code",
   "execution_count": null,
   "metadata": {},
   "outputs": [],
   "source": [
    "random.choice(range(10))"
   ]
  },
  {
   "cell_type": "code",
   "execution_count": null,
   "metadata": {},
   "outputs": [],
   "source": [
    "random.sample(range(10) , k=3)"
   ]
  },
  {
   "cell_type": "code",
   "execution_count": null,
   "metadata": {},
   "outputs": [],
   "source": [
    "liste = [*range(10)]\n",
    "print(liste)\n",
    "random.shuffle(liste)\n",
    "print(liste)"
   ]
  },
  {
   "cell_type": "code",
   "execution_count": null,
   "metadata": {},
   "outputs": [],
   "source": [
    "import math"
   ]
  },
  {
   "cell_type": "code",
   "execution_count": null,
   "metadata": {},
   "outputs": [],
   "source": [
    "help(math)"
   ]
  },
  {
   "cell_type": "code",
   "execution_count": null,
   "metadata": {},
   "outputs": [],
   "source": [
    "math.ceil(9.2)"
   ]
  },
  {
   "cell_type": "code",
   "execution_count": null,
   "metadata": {},
   "outputs": [],
   "source": [
    "math.ceil(9.9)"
   ]
  },
  {
   "cell_type": "code",
   "execution_count": null,
   "metadata": {},
   "outputs": [],
   "source": [
    "math.floor(3.9)"
   ]
  },
  {
   "cell_type": "code",
   "execution_count": null,
   "metadata": {},
   "outputs": [],
   "source": [
    "math.floor(3.1)"
   ]
  },
  {
   "cell_type": "code",
   "execution_count": null,
   "metadata": {},
   "outputs": [],
   "source": [
    "round(3.6)"
   ]
  },
  {
   "cell_type": "code",
   "execution_count": null,
   "metadata": {},
   "outputs": [],
   "source": [
    "math.factorial(7)"
   ]
  },
  {
   "cell_type": "code",
   "execution_count": null,
   "metadata": {},
   "outputs": [],
   "source": [
    "math.pow(5 , 3)"
   ]
  },
  {
   "cell_type": "code",
   "execution_count": null,
   "metadata": {},
   "outputs": [],
   "source": [
    "import collections"
   ]
  },
  {
   "cell_type": "code",
   "execution_count": null,
   "metadata": {},
   "outputs": [],
   "source": [
    "from collections import Counter"
   ]
  },
  {
   "cell_type": "code",
   "execution_count": null,
   "metadata": {},
   "outputs": [],
   "source": [
    "import random"
   ]
  },
  {
   "cell_type": "code",
   "execution_count": null,
   "metadata": {},
   "outputs": [],
   "source": [
    "list1 = random.sample(range(10) , k=4)\n",
    "list2 = random.sample(range(10) , k=4)\n",
    "list3 = random.sample(range(10) , k=4)\n",
    "list4 = random.sample(range(10) , k=4)\n",
    "\n",
    "liste_listesi = [list1 , list2 , list3 , list4]\n",
    "list_toplam = list1 + list2  +list3 + list4\n",
    "\n",
    "print(liste_listesi)\n",
    "print(list_toplam)"
   ]
  },
  {
   "cell_type": "code",
   "execution_count": null,
   "metadata": {},
   "outputs": [],
   "source": [
    "for index , liste in enumerate(liste_listesi):\n",
    "    print('{}. liste \\t {}'.format(index , liste))"
   ]
  },
  {
   "cell_type": "code",
   "execution_count": null,
   "metadata": {},
   "outputs": [],
   "source": [
    "for index , liste in enumerate(liste_listesi):\n",
    "    print('{}. liste \\t {}'.format(index+1 , liste))\n",
    "       \n",
    "Counter(list_toplam)"
   ]
  },
  {
   "cell_type": "code",
   "execution_count": null,
   "metadata": {},
   "outputs": [],
   "source": [
    "Counter(\"ssssssssssssfffffffff\")"
   ]
  },
  {
   "cell_type": "code",
   "execution_count": null,
   "metadata": {},
   "outputs": [],
   "source": [
    "sarki = \"\"\"\n",
    "Yine bana gel\n",
    "yine yine yeni beni sev\n",
    "Yine bana gel\n",
    "yine yine yeni beni sev\"\"\"\n",
    "Counter(sarki)"
   ]
  },
  {
   "cell_type": "code",
   "execution_count": null,
   "metadata": {},
   "outputs": [],
   "source": [
    "sarki.split()"
   ]
  },
  {
   "cell_type": "code",
   "execution_count": null,
   "metadata": {},
   "outputs": [],
   "source": [
    "Counter(sarki.split())"
   ]
  },
  {
   "cell_type": "code",
   "execution_count": null,
   "metadata": {},
   "outputs": [],
   "source": [
    "sarki.lower()"
   ]
  },
  {
   "cell_type": "code",
   "execution_count": null,
   "metadata": {},
   "outputs": [],
   "source": [
    "sarki.lower().split()"
   ]
  },
  {
   "cell_type": "code",
   "execution_count": null,
   "metadata": {},
   "outputs": [],
   "source": [
    "Counter(sarki.lower().split())"
   ]
  },
  {
   "cell_type": "code",
   "execution_count": null,
   "metadata": {},
   "outputs": [],
   "source": [
    "Counter(sarki.lower().split()).most_common(1)"
   ]
  },
  {
   "cell_type": "code",
   "execution_count": null,
   "metadata": {},
   "outputs": [],
   "source": [
    "import datetime"
   ]
  },
  {
   "cell_type": "code",
   "execution_count": null,
   "metadata": {},
   "outputs": [],
   "source": [
    "from datetime import date"
   ]
  },
  {
   "cell_type": "code",
   "execution_count": null,
   "metadata": {},
   "outputs": [],
   "source": [
    "bugun = date.today()\n",
    "bugun"
   ]
  },
  {
   "cell_type": "code",
   "execution_count": null,
   "metadata": {},
   "outputs": [],
   "source": [
    "dun = date(2022,7,5)\n",
    "dun"
   ]
  },
  {
   "cell_type": "code",
   "execution_count": null,
   "metadata": {},
   "outputs": [],
   "source": [
    "bugun-dun"
   ]
  },
  {
   "cell_type": "code",
   "execution_count": null,
   "metadata": {},
   "outputs": [],
   "source": [
    "yarin = bugun + datetime.timedelta(days=1)\n",
    "yarin"
   ]
  },
  {
   "cell_type": "code",
   "execution_count": null,
   "metadata": {},
   "outputs": [],
   "source": [
    "zaman_araligi = bugun-dun\n",
    "zaman_araligi.days"
   ]
  },
  {
   "cell_type": "code",
   "execution_count": null,
   "metadata": {},
   "outputs": [],
   "source": [
    "dun<bugun"
   ]
  },
  {
   "cell_type": "code",
   "execution_count": null,
   "metadata": {},
   "outputs": [],
   "source": [
    "bugun.year"
   ]
  },
  {
   "cell_type": "code",
   "execution_count": null,
   "metadata": {},
   "outputs": [],
   "source": [
    "bugun.month"
   ]
  },
  {
   "cell_type": "code",
   "execution_count": null,
   "metadata": {},
   "outputs": [],
   "source": [
    "bugun.day"
   ]
  },
  {
   "cell_type": "code",
   "execution_count": null,
   "metadata": {},
   "outputs": [],
   "source": [
    "bugun.__getattribute__('month')"
   ]
  },
  {
   "cell_type": "code",
   "execution_count": null,
   "metadata": {},
   "outputs": [],
   "source": [
    "date.isocalendar(bugun)"
   ]
  },
  {
   "cell_type": "code",
   "execution_count": null,
   "metadata": {},
   "outputs": [],
   "source": [
    "date.isocalendar(bugun)[2]"
   ]
  },
  {
   "cell_type": "code",
   "execution_count": null,
   "metadata": {},
   "outputs": [],
   "source": [
    "date.weekday(bugun)"
   ]
  },
  {
   "cell_type": "code",
   "execution_count": null,
   "metadata": {},
   "outputs": [],
   "source": [
    "date.ctime(bugun)"
   ]
  },
  {
   "cell_type": "code",
   "execution_count": null,
   "metadata": {},
   "outputs": [],
   "source": [
    "from datetime import time"
   ]
  },
  {
   "cell_type": "code",
   "execution_count": null,
   "metadata": {},
   "outputs": [],
   "source": [
    "zaman = time(20 , 15)\n",
    "print(zaman)"
   ]
  },
  {
   "cell_type": "code",
   "execution_count": null,
   "metadata": {},
   "outputs": [],
   "source": [
    "zaman = time(20 , 15 , 5)\n",
    "print(zaman)"
   ]
  },
  {
   "cell_type": "code",
   "execution_count": null,
   "metadata": {},
   "outputs": [],
   "source": [
    "zaman.hour"
   ]
  },
  {
   "cell_type": "code",
   "execution_count": null,
   "metadata": {},
   "outputs": [],
   "source": [
    "zaman.minute"
   ]
  },
  {
   "cell_type": "code",
   "execution_count": null,
   "metadata": {},
   "outputs": [],
   "source": [
    "zaman.second"
   ]
  },
  {
   "cell_type": "code",
   "execution_count": null,
   "metadata": {},
   "outputs": [],
   "source": [
    "dt = datetime.datetime(2022,7,6,20,35 ,18)\n",
    "print(dt)"
   ]
  },
  {
   "cell_type": "code",
   "execution_count": null,
   "metadata": {},
   "outputs": [],
   "source": [
    "dt.hour"
   ]
  },
  {
   "cell_type": "code",
   "execution_count": null,
   "metadata": {},
   "outputs": [],
   "source": [
    "import time"
   ]
  },
  {
   "cell_type": "code",
   "execution_count": null,
   "metadata": {},
   "outputs": [],
   "source": [
    "time.time()"
   ]
  },
  {
   "cell_type": "code",
   "execution_count": null,
   "metadata": {},
   "outputs": [],
   "source": [
    " def deneme():\n",
    "    print('abc')\n",
    "deneme()"
   ]
  },
  {
   "cell_type": "code",
   "execution_count": null,
   "metadata": {},
   "outputs": [],
   "source": [
    "f = deneme\n",
    "f()"
   ]
  },
  {
   "cell_type": "code",
   "execution_count": null,
   "metadata": {},
   "outputs": [],
   "source": [
    "def deneme():\n",
    "    print('deneme fonksiyonu calisiyor')\n",
    "    def test():\n",
    "        return \"test fonksiyonu calisiyor\"\n",
    "    print(test())"
   ]
  },
  {
   "cell_type": "code",
   "execution_count": null,
   "metadata": {},
   "outputs": [],
   "source": [
    "deneme()"
   ]
  },
  {
   "cell_type": "code",
   "execution_count": null,
   "metadata": {},
   "outputs": [],
   "source": [
    "f= deneme\n",
    "f()"
   ]
  },
  {
   "cell_type": "code",
   "execution_count": null,
   "metadata": {},
   "outputs": [],
   "source": [
    "f= deneme()\n",
    "print(f())"
   ]
  },
  {
   "cell_type": "code",
   "execution_count": null,
   "metadata": {},
   "outputs": [],
   "source": [
    "def deneme():\n",
    "    return \"deneme fonksiyonu calisiyor\""
   ]
  },
  {
   "cell_type": "code",
   "execution_count": null,
   "metadata": {},
   "outputs": [],
   "source": [
    "def ikinci(f):\n",
    "     print(\"ikinci fonksiyon calisiyor\")\n",
    "     print(f())"
   ]
  },
  {
   "cell_type": "code",
   "execution_count": null,
   "metadata": {},
   "outputs": [],
   "source": [
    "ikinci(deneme)"
   ]
  },
  {
   "cell_type": "code",
   "execution_count": null,
   "metadata": {},
   "outputs": [],
   "source": [
    "def deco(f):\n",
    "    def wrapper():\n",
    "        print(\"başlangic\")\n",
    "        f()\n",
    "        print(\"bitis\")\n",
    "    return wrapper"
   ]
  },
  {
   "cell_type": "code",
   "execution_count": null,
   "metadata": {},
   "outputs": [],
   "source": [
    "def yazdir():\n",
    "    print(\"yazdir\")"
   ]
  },
  {
   "cell_type": "code",
   "execution_count": null,
   "metadata": {},
   "outputs": [],
   "source": [
    "yazdir = deco(yazdir)"
   ]
  },
  {
   "cell_type": "code",
   "execution_count": null,
   "metadata": {},
   "outputs": [],
   "source": [
    "yazdir()"
   ]
  },
  {
   "cell_type": "code",
   "execution_count": null,
   "metadata": {},
   "outputs": [],
   "source": [
    "@deco\n",
    "def toplama(a,b):\n",
    "    print(a+b)"
   ]
  },
  {
   "cell_type": "code",
   "execution_count": null,
   "metadata": {},
   "outputs": [],
   "source": [
    "toplama(4,5)"
   ]
  },
  {
   "cell_type": "code",
   "execution_count": null,
   "metadata": {},
   "outputs": [],
   "source": [
    "def deco(f):\n",
    "    def wrapper(*args):\n",
    "        print(\"baslangic\")\n",
    "        f(*args)\n",
    "        print(\"bitis\")\n",
    "    return wrapper"
   ]
  },
  {
   "cell_type": "code",
   "execution_count": null,
   "metadata": {},
   "outputs": [],
   "source": [
    "@deco\n",
    "def toplama(a,b):\n",
    "    print(a+b)"
   ]
  },
  {
   "cell_type": "code",
   "execution_count": null,
   "metadata": {},
   "outputs": [],
   "source": [
    "toplama(4,5)"
   ]
  },
  {
   "cell_type": "code",
   "execution_count": null,
   "metadata": {},
   "outputs": [],
   "source": [
    "def deco(msg1 , msg2):\n",
    "    def ara_katman(f):\n",
    "        def wrapper(*args):\n",
    "            print(msg1)\n",
    "            f(*args)\n",
    "            print(msg2)\n",
    "        return wrapper\n",
    "    return ara_katman"
   ]
  },
  {
   "cell_type": "code",
   "execution_count": null,
   "metadata": {},
   "outputs": [],
   "source": [
    "@deco(\"Ilk\" , \"sonuc\")\n",
    "def toplama(a , b):\n",
    "    print(a+b)"
   ]
  },
  {
   "cell_type": "code",
   "execution_count": null,
   "metadata": {},
   "outputs": [],
   "source": [
    "toplama(8 , 3)"
   ]
  },
  {
   "cell_type": "code",
   "execution_count": null,
   "metadata": {},
   "outputs": [],
   "source": [
    "import time\n",
    "baslangic = time.time()\n",
    "f()\n",
    "bitis = time.time()"
   ]
  },
  {
   "cell_type": "code",
   "execution_count": null,
   "metadata": {},
   "outputs": [],
   "source": [
    "def sure_olc(f):\n",
    "    def wrapper(*args):\n",
    "        baslangic = time.time()\n",
    "        print(\"Baslangic zamani:\\t {}\".format(baslangic))\n",
    "        f(*args)\n",
    "        bitis = time.time()\n",
    "        print(\"Bitis zamani:\\t {}\".format(bitis))\n",
    "        print(\"Gecen sure:\\t {}\".format(bitis-baslangic))\n",
    "    return wrapper"
   ]
  },
  {
   "cell_type": "code",
   "execution_count": null,
   "metadata": {},
   "outputs": [],
   "source": [
    "# faktoriyel(5) = 5*4*3*2*1\n",
    "@sure_olc\n",
    "def faktoriyel(sayi):\n",
    "    toplam = 1\n",
    "   \n",
    "    while sayi > 1:\n",
    "        toplam = toplam*sayi\n",
    "        sayi = sayi-1\n",
    "    print(toplam)"
   ]
  },
  {
   "cell_type": "code",
   "execution_count": null,
   "metadata": {},
   "outputs": [],
   "source": [
    "faktoriyel(1000)"
   ]
  },
  {
   "cell_type": "code",
   "execution_count": null,
   "metadata": {},
   "outputs": [],
   "source": [
    "import requests"
   ]
  },
  {
   "cell_type": "code",
   "execution_count": null,
   "metadata": {},
   "outputs": [],
   "source": [
    "bolgeler_URL = 'https://data.police.uk/docs/method/forces'\n",
    "response = requests.get(bolgeler_URL )"
   ]
  },
  {
   "cell_type": "code",
   "execution_count": null,
   "metadata": {},
   "outputs": [],
   "source": [
    "help(response)"
   ]
  },
  {
   "cell_type": "code",
   "execution_count": null,
   "metadata": {},
   "outputs": [],
   "source": [
    "response.status_code"
   ]
  },
  {
   "cell_type": "code",
   "execution_count": null,
   "metadata": {},
   "outputs": [],
   "source": [
    "response.url"
   ]
  },
  {
   "cell_type": "code",
   "execution_count": null,
   "metadata": {},
   "outputs": [],
   "source": [
    "response.text"
   ]
  },
  {
   "cell_type": "code",
   "execution_count": null,
   "metadata": {},
   "outputs": [],
   "source": [
    "response.json()"
   ]
  },
  {
   "cell_type": "code",
   "execution_count": null,
   "metadata": {},
   "outputs": [],
   "source": [
    "# https://data.police.uk/api/crime-categories?date=2011-08\n",
    "suc_kategorileri_URL = 'https://data.police.uk/docs/method/crime-categories'\n",
    "payload = {'date': '2022-07'}\n",
    "response = requests.get(suc_kategorileri_URL , params=payload )\n"
   ]
  },
  {
   "cell_type": "code",
   "execution_count": null,
   "metadata": {},
   "outputs": [],
   "source": [
    "response.status_code"
   ]
  },
  {
   "cell_type": "code",
   "execution_count": null,
   "metadata": {},
   "outputs": [],
   "source": [
    "response.url"
   ]
  },
  {
   "cell_type": "code",
   "execution_count": null,
   "metadata": {},
   "outputs": [],
   "source": [
    "response.json()"
   ]
  },
  {
   "cell_type": "code",
   "execution_count": null,
   "metadata": {},
   "outputs": [],
   "source": [
    "suc_URL = 'https://data.police.uk/docs/method/crimes-no-location/'\n",
    "payload = {\n",
    "    'category': 'all-crime',\n",
    "    'force': 'city-of-london',\n",
    "    'date': '2020-07'}\n",
    " response = request.get(suc_URL , prams=payload)"
   ]
  },
  {
   "cell_type": "code",
   "execution_count": null,
   "metadata": {},
   "outputs": [],
   "source": [
    "# https://image-charts.com/\n",
    "import requests"
   ]
  },
  {
   "cell_type": "code",
   "execution_count": null,
   "metadata": {},
   "outputs": [],
   "source": [
    "grafik_URL = 'https://image-charts.com/chart'\n",
    "#https://image-charts.com/chart.js/2.8.0?bkg=white&icac=documentation&c=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%3D%3D&encoding=base64&ichm=9d340def5f6f692bc79721d5b74b236d9b90e4a908539b19f510ca42afb9f7b6\n",
    "payload = {\n",
    "    chd=t:10,10,30,_,30,40,35\n",
    "    chf=b0,lg,90,03a9f47C,0,3f51b57C,1\n",
    "    chg=20,20\n",
    "    chl=label 1|label 2\n",
    "    chma=0,50,50\n",
    "    chs=711x313\n",
    "    cht=bb\n",
    "    chxt=y,x\n",
    "}\n",
    "response = request.post(grafik_URL , data = payload)"
   ]
  },
  {
   "cell_type": "code",
   "execution_count": null,
   "metadata": {},
   "outputs": [],
   "source": [
    "response.status_code"
   ]
  },
  {
   "cell_type": "code",
   "execution_count": null,
   "metadata": {},
   "outputs": [],
   "source": [
    "from PIL import Image\n",
    "from io import BytesIO\n",
    "Image = image.open(BytesIO(response.content))\n",
    "image.show"
   ]
  },
  {
   "cell_type": "code",
   "execution_count": null,
   "metadata": {},
   "outputs": [],
   "source": [
    "grafik_URL = 'https://image-charts.com/chart'\n",
    "payload = {\n",
    "    'chco':'3092de',\n",
    "    'chd':'t:81,65,50,67,59,81',\n",
    "    'chd1':'falcao',\n",
    "    'chlp':'b',\n",
    "    'chs':'480*480'\n",
    "    'cht':'r',\n",
    "    'chtt':'Futbolcu özellikleri'\n",
    "}\n",
    "response = request.post(grafik_URL , data = payload)\n",
    "image = image.open(BytesIO(response.content))\n",
    "image.show()"
   ]
  },
  {
   "cell_type": "code",
   "execution_count": null,
   "metadata": {},
   "outputs": [],
   "source": [
    "class futbolcu():\n",
    "    def __init__(self, isim, hiz, sut, pas, top_surme, defans, fizik):\n",
    "        self.isim = isim\n",
    "        self.hiz = hiz\n",
    "        self.sut = sut\n",
    "        self.pas = pas\n",
    "        self.top_surme = top_surme\n",
    "        self.defans = defans\n",
    "        self.fizik = fizik\n",
    "    def yetenek_hazirla(self):\n",
    "        return ','.join([\n",
    "            str(self.hiz),\n",
    "            str(self.sut ),\n",
    "            str(self.pas) ,\n",
    "            str(self.top_surme),\n",
    "            str (self.defans),\n",
    "            str(self.fizik),\n",
    "            str(self.hiz)\n",
    "            ])\n",
    "    def yetenek_gorsellestir(self):\n",
    "        grafik_URL = 'https://image-charts.com/chart'\n",
    "        payload = {\n",
    "            'chco':'392de, 027182'\n",
    "            'chd':'t:' + self.yetenek_hazirla(),\n",
    "            'chd1':self.isim,\n",
    "            'chdlp':'b',\n",
    "            'chs':'480*480',\n",
    "            'cht':'r',\n",
    "            'chtt':'Futbolcu özellikleri',\n",
    "            'ch1':'hiz|sut|pas|top_surus|defans|fizik',\n",
    "            'chx1':'0|0|20|40|60|80|100',\n",
    "            'chxt':'x',\n",
    "            'chxr':'0,0,0,100,0',\n",
    "            'chm':'B,AAAAAA,0,0,0'\n",
    "             }\n",
    "        response = request.post(grafik_URL , data = payload)\n",
    "        image = image.open(BytesIO(response.content))\n",
    "        image.show()\n",
    "    def yetenek_kiyaslama_goster(self, hedef_futbolcu):\n",
    "        grafik_URL = 'https://image-charts.com/chart'\n",
    "         payload = {\n",
    "            'chco':'392de',\n",
    "            'chd':'t': + self.yetenek_hazirla() + '|'hedef_futbolcu.yetenek_hazirla()',\n",
    "            'chd1':self.isim + '|'hedef_futbolcu.isim,\n",
    "            'chdlp':'b',\n",
    "            'chs':'480*480',\n",
    "            'cht':'r',\n",
    "            'chtt':'Futbolcu özellikleri',\n",
    "            'ch1':'hiz|sut|pas|top_surus|defans|fizik',\n",
    "            'chx1':'0|0|20|40|60|80|100',\n",
    "            'chxt':'x',\n",
    "            'chxr':'0,0,0,100,0',\n",
    "            'chm':'B,AAAAAA,0,0,0|B,0073CFBB,1,0,0'\n",
    "             }"
   ]
  },
  {
   "cell_type": "code",
   "execution_count": null,
   "metadata": {},
   "outputs": [],
   "source": [
    "from tkinter import *\n",
    "from tkcalendar import DateEntry\n",
    "!pip install tkcalendar\n",
    "\n",
    "# pack\n",
    "# place\n",
    "# grid\n",
    "\n",
    "master = Tk()\n",
    "canvas = canvas(master, height=450, width=750)\n",
    "canvas.pack()\n",
    "\n",
    "frame_ust = Frame(master, bg='#add8e6')\n",
    "frame_ust.place(relx=0.1, rely=0.1, relwidth=0.8, relheight=0.1)\n",
    "\n",
    "frame_alt_sol = Frame(master, bg='#add8e6')\n",
    "frame_alt_sol.place(relx=0.1, rely=0.21, relwidth=0.23, relheight=0.5)\n",
    "\n",
    "frame_alt_sag = frame_ust = Frame(master, bg='#add8e6')\n",
    "frame_alt_sag.place(relx=0.34, rely=0.21, relwidth=0.56,  relheight=0.5)\n",
    "\n",
    "hatirlatma_tipi_etiket = Label(frame_ust, bg='#add8e6', text= 'Hatirlatma Tipi:', font='Verdana 12 Bold' )\n",
    "hatirlatma_tipi_etiket.pack(padx=10, pady=10, side=LEFT)\n",
    "\n",
    "hatirlatma_tipi_opsiyon = StrinVar(frame_ust)\n",
    "hatirlatma_tipi_opsiyon.set(\"\\t\")\n",
    "\n",
    "hatirlatma_tipi_acilir_menu = OptionMenu(\n",
    "    frame_ust,\n",
    "    hatirlatma_tipi_opsiyon,\n",
    "    \"Dogum gunu\"\n",
    "    \"Alisveris\"\n",
    "    \"Odeme\")\n",
    "hatirlatma_tipi_acilir_menu.pack(padx=10, pady=10, side=LEFT)\n",
    "\n",
    "hatirlatma_tarih_secici = DateEntry(frame_ust, width=12, background='orange', foreground='black', borderwidth=1, locale='de_DE')\n",
    "hatirlatma_tarih_secici.pack(padx=10, pady=10, side=LEFT)\n",
    "\n",
    "hatirlatma_tarihi_etiket = Label(frame_ust, bg='#add8e6', text= 'Hatirlatma Tipi:', font='Verdana 12 Bold' )\n",
    "hatirlatma_tarihi_etiket.pack(padx=10, pady=10, side=LEFT)\n",
    "\n",
    "master.mainloop()"
   ]
  },
  {
   "cell_type": "code",
   "execution_count": null,
   "metadata": {},
   "outputs": [],
   "source": [
    "# PART II\n",
    "\n",
    "Label(frame_alt_sol, text=\"Hatirlatma yöntemi\", bg='#add8e6', font=\"Verdana 10 bold\").pack(padx=10, pady=10,  anchor=NW)\n",
    "\n",
    "var = IntVar()\n",
    "\n",
    "R1 = radiobutton(frame_alt_sol, text=\"Sisteme kaydet\", variable=var, value=1, bg='#add8e6', font=\"Verdana 10\")\n",
    "R1.pack(anchor=NW, padx=5, pady=15)\n",
    "\n",
    "R2 = radiobutton(frame_alt_sol, text=\"E-posta gonder\", variable=var, value=2, bg='#add8e6', font=\"Verdana 10\" )\n",
    "R2.pack(anchor=NW, padx=5, pady=15)\n",
    "\n",
    "var1 = IntVar()\n",
    "\n",
    "C1 = checkbutton(frame_alt_sol, text='Bir hafta once', variable=var1, onvalue=1, offvalue=0, bg='#add8e6', font=\"Verdana 10\")\n",
    "C1.pack(anchor=NW,  pady=2, padx=25)\n",
    "\n",
    "var2 = IntVar()\n",
    "\n",
    "C2 = checkbutton(frame_alt_sol, text='Bir gun once', variable=var2, onvalue=1, offvalue=0, bg='#add8e6', font=\"Verdana 10\")\n",
    "C2.pack(anchor=NW,  pady=2, padx=25)\n",
    "\n",
    "var3 = Intvar()\n",
    "C3 = checkbutton(frame_alt_sol, tekt='Ayni gun', variable=var3, onvalue=1, offvalue=0, bg='#add8e6', font=\"Verdana 10\")\n",
    "C3.pack(anchor=NW,  pady=2, padx=25)\n",
    "\n",
    "master.mainloop()\n"
   ]
  },
  {
   "cell_type": "code",
   "execution_count": null,
   "metadata": {},
   "outputs": [],
   "source": [
    "# PART III\n",
    "\n",
    "def gonder():\n",
    "    pass\n",
    "    return\n",
    "\n",
    "Label(frame_alt_sag, text=\"Hatirlatma mesaji\", bg='#add8e6', font='Verdana 10 bold',).pack(\n",
    "padx=10, pady=10, anchor=NW)\n",
    "metin_alani = Text(frame_alt_sag, height=9, width=50)\n",
    "metin_alani.tag_configure('style', foreground='#bfbfbf', font=('Verdana', 7, 'bold'))\n",
    "metin_alani.pack()\n",
    "\n",
    "karsilama_metni = 'Mesajinizi buraya giriniz...'\n",
    "metin_alani.insert(END, karsilama_metni, 'style')\n",
    "\n",
    "gonder_butonu = Button(frame_alt_sag, text=\"Gonder\", command=master.destroy )\n",
    "\n",
    "gonder_butonu.pack(anchor=S)\n",
    "\n",
    "master.mainloop()"
   ]
  },
  {
   "cell_type": "code",
   "execution_count": null,
   "metadata": {},
   "outputs": [],
   "source": [
    "#PART 4\n",
    "\n",
    "from tkinter import messagebox\n",
    "def gonder():\n",
    "    son_mesaj = \"\"\n",
    "    if var.get():\n",
    "        if var.get==1:\n",
    "            son_mesaj+= \"Veriniz başariyla sisteme kaydedilmiştir.\"\n",
    "            \n",
    "            tip = hatirlatma_tipi_opsiyon.get() if hatirlatma_tipi_opsiyon.get =='' else 'Genel'\n",
    "            tarih = hatirlatma_tarih_secici.get()\n",
    "            mesaj = metin_alani.get(\"1.0\", \"END\")\n",
    "            \n",
    "            with open(\"hatirlatmalar.txt\", \"w\") as dosya\n",
    "            dosya.write(\n",
    "            '{} kategorisinde {} tarihinde {} notuyla hatirlatma'.format(\n",
    "                tip,\n",
    "                tarih,\n",
    "                mesaj\n",
    "            ))\n",
    "            dosya.close()\n",
    "            \n",
    "            \n",
    "        elif var.get == 2:\n",
    "            son_mesaj += \"E-posta yoluyla hatirlatma size ulaşacaktir\"\n",
    "            \n",
    "        messagebox.showinfo(\"Basarili islem\", son_mesaj)\n",
    "        \n",
    "        else:\n",
    "            son_mesaj += \"Gerekli alanlarin dolduruldugundan emin olun!\"\n",
    "            messagebox.showwarning(\"Yetersiz bilgi\", son_mesaj)\n",
    "            \n",
    "        except:\n",
    "            son_mesaj += \"Islem basarisiz oldu!\"\n",
    "            messagebox.showerror(\"Basarisiz islem\", son_mesaj)\n",
    "        finally:\n",
    "            master.destroy\n",
    "        return\n",
    "    #not: part 4 gönder kısmından başlar part 3 ü en sona koy benim python versiyonunda komut işlemedi\n",
    "    #bu komut ve arayüz projesi eski python versiyonlarına uyumlu buna benzer bir proje mutlaka yap"
   ]
  },
  {
   "cell_type": "code",
   "execution_count": null,
   "metadata": {},
   "outputs": [],
   "source": [
    "import ssl\n",
    "import smtplib"
   ]
  },
  {
   "cell_type": "code",
   "execution_count": null,
   "metadata": {},
   "outputs": [],
   "source": [
    "kullanici = '<xxxxxxx.i@gmail.com>'\n",
    "sifre = '<xxxxxxxxxx>'"
   ]
  },
  {
   "cell_type": "code",
   "execution_count": null,
   "metadata": {},
   "outputs": [],
   "source": [
    "alici = kullanici\n",
    "#baslik = 'python gondersisi'\n",
    "mesaj = ' Deneme Mesaji'\n",
    "context = ssl.create_default_context()"
   ]
  },
  {
   "cell_type": "code",
   "execution_count": null,
   "metadata": {},
   "outputs": [],
   "source": [
    "port = 465\n",
    "host =\"smtp.gmail.com\"\n",
    "eposta_sunucu = smtplib.SMTP_SSL(host=host, port=port, context=context)\n",
    "eposta_sunucu.login(kullanici, sifre)\n",
    "eposta_sunucu.sendmail(kullanici, alici, mesaj)"
   ]
  },
  {
   "cell_type": "code",
   "execution_count": null,
   "metadata": {},
   "outputs": [],
   "source": [
    "# part 2\n",
    "\n",
    "from email.mime.multipart import MIMEMultipart\n",
    "from email.mime.text import MIMEText\n",
    "from email.mime.base import MIMEBase\n",
    "from email import encoders\n",
    "\n",
    "posta = MIMEMultipart()\n",
    "posta['From'] = kullanici\n",
    "posta['To'] = kullanici\n",
    "posta['Subject'] = Baslik\n",
    "\n",
    "posta.attach(MIMEText(mesaj, 'plain'))\n",
    "eklenti_dosya_ismi = \"Arjantin.jpg\"\n",
    "\n",
    "with(open(eklenti_dosya_ismi, 'rb' )) as eklenti_dosyasi:\n",
    "    payload = MIMEBase('application', 'octate-stream')\n",
    "    payload.set_payload((eklenti_dosyasi).read())\n",
    "    encoders.encode_base64(payload)\n",
    "    \n",
    "    payload.add_header(\"Content-Decomposition\", \"attachment\", filename=eklenti_dosya_ismi)\n",
    "    posta.attach(payload)\n",
    "    \n",
    "    posta_str=posta.as_string()"
   ]
  },
  {
   "cell_type": "code",
   "execution_count": null,
   "metadata": {},
   "outputs": [],
   "source": [
    "port = 465\n",
    "host= \"smtp.gmail.com\"\n",
    "\n",
    "eposta_sunucu = smtplib.SMTP_SSL(host=host, port=port, context=context)\n",
    "eposta_sunucu.login(kullanici, sifre)\n",
    "eposta_sunucu.sendmail(kullanici, alici, posta)"
   ]
  },
  {
   "cell_type": "code",
   "execution_count": null,
   "metadata": {},
   "outputs": [],
   "source": [
    "pip install imap_tools"
   ]
  },
  {
   "cell_type": "code",
   "execution_count": null,
   "metadata": {},
   "outputs": [],
   "source": [
    "import datetime\n",
    "from imap_tools import AND\n",
    "\n",
    "kriter = AND(date_gte=datetime.date(2022,1,1), from_=kullanici)\n",
    "for msg in posta_kutusu.fetch(kriter):\n",
    "    print(msg.text)"
   ]
  },
  {
   "cell_type": "code",
   "execution_count": null,
   "metadata": {},
   "outputs": [],
   "source": [
    "with MailBox('imap.gmail.com').login(kullanici, sifre, initial_folder=\"INBOX\") as posta_kutusu:\n",
    "    kriter = AND(date_gte=datetime.date(2022,1,1), from_=kullanici)\n",
    "    for msg in posta_kutusu.fetch(kriter):\n",
    "          print(msg.text)"
   ]
  },
  {
   "cell_type": "code",
   "execution_count": null,
   "metadata": {},
   "outputs": [],
   "source": []
  },
  {
   "cell_type": "code",
   "execution_count": null,
   "metadata": {},
   "outputs": [],
   "source": []
  },
  {
   "cell_type": "code",
   "execution_count": null,
   "metadata": {},
   "outputs": [],
   "source": []
  },
  {
   "cell_type": "code",
   "execution_count": null,
   "metadata": {},
   "outputs": [],
   "source": []
  },
  {
   "cell_type": "code",
   "execution_count": null,
   "metadata": {},
   "outputs": [],
   "source": []
  },
  {
   "cell_type": "code",
   "execution_count": null,
   "metadata": {},
   "outputs": [],
   "source": []
  },
  {
   "cell_type": "code",
   "execution_count": null,
   "metadata": {},
   "outputs": [],
   "source": []
  }
 ],
 "metadata": {
  "kernelspec": {
   "display_name": "Python 3",
   "language": "python",
   "name": "python3"
  },
  "language_info": {
   "codemirror_mode": {
    "name": "ipython",
    "version": 3
   },
   "file_extension": ".py",
   "mimetype": "text/x-python",
   "name": "python",
   "nbconvert_exporter": "python",
   "pygments_lexer": "ipython3",
   "version": "3.8.5"
  }
 },
 "nbformat": 4,
 "nbformat_minor": 4
}
